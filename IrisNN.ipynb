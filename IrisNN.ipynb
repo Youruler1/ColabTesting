{
  "nbformat": 4,
  "nbformat_minor": 0,
  "metadata": {
    "colab": {
      "provenance": [],
      "gpuType": "T4",
      "authorship_tag": "ABX9TyNzyYHPqHu9DEqLGRAeBRZc",
      "include_colab_link": true
    },
    "kernelspec": {
      "name": "python3",
      "display_name": "Python 3"
    },
    "language_info": {
      "name": "python"
    },
    "accelerator": "GPU"
  },
  "cells": [
    {
      "cell_type": "markdown",
      "metadata": {
        "id": "view-in-github",
        "colab_type": "text"
      },
      "source": [
        "<a href=\"https://colab.research.google.com/github/Youruler1/ColabTesting/blob/main/IrisNN.ipynb\" target=\"_parent\"><img src=\"https://colab.research.google.com/assets/colab-badge.svg\" alt=\"Open In Colab\"/></a>"
      ]
    },
    {
      "cell_type": "code",
      "execution_count": 91,
      "metadata": {
        "id": "zniiTVV8MkM6"
      },
      "outputs": [],
      "source": [
        "import torch\n",
        "import torch.nn as nn\n",
        "import torch.nn.functional as f"
      ]
    },
    {
      "cell_type": "code",
      "source": [
        "# creating class for nn model\n",
        "class Model(nn.Module):\n",
        "  def __init__(self, input_features=4, h1=4, h2=3, output_features=3):\n",
        "    super(Model, self).__init__()\n",
        "    self.fc1 = nn.Linear(input_features, h1)\n",
        "    self.fc2 = nn.Linear(h1, h2)\n",
        "    self.out = nn.Linear(h2, output_features)\n",
        "\n",
        "  def forward(self, x):\n",
        "    x = f.relu(self.fc1(x))\n",
        "    x = f.relu(self.fc2(x))\n",
        "    return self.out(x)"
      ],
      "metadata": {
        "id": "hrcyO1ruMv56"
      },
      "execution_count": 92,
      "outputs": []
    },
    {
      "cell_type": "code",
      "source": [
        "torch.manual_seed(41) # manual seed for inherent randomness\n",
        "model = Model()"
      ],
      "metadata": {
        "id": "isnTJyLpTKHt"
      },
      "execution_count": 93,
      "outputs": []
    },
    {
      "cell_type": "code",
      "source": [
        "import pandas as pd\n",
        "import matplotlib.pyplot as plt\n",
        "%matplotlib inline"
      ],
      "metadata": {
        "id": "1hpbpRxbVPcK"
      },
      "execution_count": 94,
      "outputs": []
    },
    {
      "cell_type": "code",
      "source": [
        "url = 'https://gist.githubusercontent.com/curran/a08a1080b88344b0c8a7/raw/0e7a9b0a5d22642a06d3d5b9bcbad9890c8ee534/iris.csv'\n",
        "df = pd.read_csv(url)"
      ],
      "metadata": {
        "id": "k5MopfRWVYEV"
      },
      "execution_count": 95,
      "outputs": []
    },
    {
      "cell_type": "code",
      "source": [
        "df.head()"
      ],
      "metadata": {
        "colab": {
          "base_uri": "https://localhost:8080/",
          "height": 206
        },
        "id": "RXN8EeJ_WXP_",
        "outputId": "c9739463-f1c6-4ad5-d108-40e8b88a53ac"
      },
      "execution_count": 96,
      "outputs": [
        {
          "output_type": "execute_result",
          "data": {
            "text/plain": [
              "   sepal_length  sepal_width  petal_length  petal_width species\n",
              "0           5.1          3.5           1.4          0.2  setosa\n",
              "1           4.9          3.0           1.4          0.2  setosa\n",
              "2           4.7          3.2           1.3          0.2  setosa\n",
              "3           4.6          3.1           1.5          0.2  setosa\n",
              "4           5.0          3.6           1.4          0.2  setosa"
            ],
            "text/html": [
              "\n",
              "  <div id=\"df-81b447b6-5adf-413a-86db-3de074b11e64\" class=\"colab-df-container\">\n",
              "    <div>\n",
              "<style scoped>\n",
              "    .dataframe tbody tr th:only-of-type {\n",
              "        vertical-align: middle;\n",
              "    }\n",
              "\n",
              "    .dataframe tbody tr th {\n",
              "        vertical-align: top;\n",
              "    }\n",
              "\n",
              "    .dataframe thead th {\n",
              "        text-align: right;\n",
              "    }\n",
              "</style>\n",
              "<table border=\"1\" class=\"dataframe\">\n",
              "  <thead>\n",
              "    <tr style=\"text-align: right;\">\n",
              "      <th></th>\n",
              "      <th>sepal_length</th>\n",
              "      <th>sepal_width</th>\n",
              "      <th>petal_length</th>\n",
              "      <th>petal_width</th>\n",
              "      <th>species</th>\n",
              "    </tr>\n",
              "  </thead>\n",
              "  <tbody>\n",
              "    <tr>\n",
              "      <th>0</th>\n",
              "      <td>5.1</td>\n",
              "      <td>3.5</td>\n",
              "      <td>1.4</td>\n",
              "      <td>0.2</td>\n",
              "      <td>setosa</td>\n",
              "    </tr>\n",
              "    <tr>\n",
              "      <th>1</th>\n",
              "      <td>4.9</td>\n",
              "      <td>3.0</td>\n",
              "      <td>1.4</td>\n",
              "      <td>0.2</td>\n",
              "      <td>setosa</td>\n",
              "    </tr>\n",
              "    <tr>\n",
              "      <th>2</th>\n",
              "      <td>4.7</td>\n",
              "      <td>3.2</td>\n",
              "      <td>1.3</td>\n",
              "      <td>0.2</td>\n",
              "      <td>setosa</td>\n",
              "    </tr>\n",
              "    <tr>\n",
              "      <th>3</th>\n",
              "      <td>4.6</td>\n",
              "      <td>3.1</td>\n",
              "      <td>1.5</td>\n",
              "      <td>0.2</td>\n",
              "      <td>setosa</td>\n",
              "    </tr>\n",
              "    <tr>\n",
              "      <th>4</th>\n",
              "      <td>5.0</td>\n",
              "      <td>3.6</td>\n",
              "      <td>1.4</td>\n",
              "      <td>0.2</td>\n",
              "      <td>setosa</td>\n",
              "    </tr>\n",
              "  </tbody>\n",
              "</table>\n",
              "</div>\n",
              "    <div class=\"colab-df-buttons\">\n",
              "\n",
              "  <div class=\"colab-df-container\">\n",
              "    <button class=\"colab-df-convert\" onclick=\"convertToInteractive('df-81b447b6-5adf-413a-86db-3de074b11e64')\"\n",
              "            title=\"Convert this dataframe to an interactive table.\"\n",
              "            style=\"display:none;\">\n",
              "\n",
              "  <svg xmlns=\"http://www.w3.org/2000/svg\" height=\"24px\" viewBox=\"0 -960 960 960\">\n",
              "    <path d=\"M120-120v-720h720v720H120Zm60-500h600v-160H180v160Zm220 220h160v-160H400v160Zm0 220h160v-160H400v160ZM180-400h160v-160H180v160Zm440 0h160v-160H620v160ZM180-180h160v-160H180v160Zm440 0h160v-160H620v160Z\"/>\n",
              "  </svg>\n",
              "    </button>\n",
              "\n",
              "  <style>\n",
              "    .colab-df-container {\n",
              "      display:flex;\n",
              "      gap: 12px;\n",
              "    }\n",
              "\n",
              "    .colab-df-convert {\n",
              "      background-color: #E8F0FE;\n",
              "      border: none;\n",
              "      border-radius: 50%;\n",
              "      cursor: pointer;\n",
              "      display: none;\n",
              "      fill: #1967D2;\n",
              "      height: 32px;\n",
              "      padding: 0 0 0 0;\n",
              "      width: 32px;\n",
              "    }\n",
              "\n",
              "    .colab-df-convert:hover {\n",
              "      background-color: #E2EBFA;\n",
              "      box-shadow: 0px 1px 2px rgba(60, 64, 67, 0.3), 0px 1px 3px 1px rgba(60, 64, 67, 0.15);\n",
              "      fill: #174EA6;\n",
              "    }\n",
              "\n",
              "    .colab-df-buttons div {\n",
              "      margin-bottom: 4px;\n",
              "    }\n",
              "\n",
              "    [theme=dark] .colab-df-convert {\n",
              "      background-color: #3B4455;\n",
              "      fill: #D2E3FC;\n",
              "    }\n",
              "\n",
              "    [theme=dark] .colab-df-convert:hover {\n",
              "      background-color: #434B5C;\n",
              "      box-shadow: 0px 1px 3px 1px rgba(0, 0, 0, 0.15);\n",
              "      filter: drop-shadow(0px 1px 2px rgba(0, 0, 0, 0.3));\n",
              "      fill: #FFFFFF;\n",
              "    }\n",
              "  </style>\n",
              "\n",
              "    <script>\n",
              "      const buttonEl =\n",
              "        document.querySelector('#df-81b447b6-5adf-413a-86db-3de074b11e64 button.colab-df-convert');\n",
              "      buttonEl.style.display =\n",
              "        google.colab.kernel.accessAllowed ? 'block' : 'none';\n",
              "\n",
              "      async function convertToInteractive(key) {\n",
              "        const element = document.querySelector('#df-81b447b6-5adf-413a-86db-3de074b11e64');\n",
              "        const dataTable =\n",
              "          await google.colab.kernel.invokeFunction('convertToInteractive',\n",
              "                                                    [key], {});\n",
              "        if (!dataTable) return;\n",
              "\n",
              "        const docLinkHtml = 'Like what you see? Visit the ' +\n",
              "          '<a target=\"_blank\" href=https://colab.research.google.com/notebooks/data_table.ipynb>data table notebook</a>'\n",
              "          + ' to learn more about interactive tables.';\n",
              "        element.innerHTML = '';\n",
              "        dataTable['output_type'] = 'display_data';\n",
              "        await google.colab.output.renderOutput(dataTable, element);\n",
              "        const docLink = document.createElement('div');\n",
              "        docLink.innerHTML = docLinkHtml;\n",
              "        element.appendChild(docLink);\n",
              "      }\n",
              "    </script>\n",
              "  </div>\n",
              "\n",
              "\n",
              "    <div id=\"df-4513d50c-09e3-4e35-82f7-1c660c709b5a\">\n",
              "      <button class=\"colab-df-quickchart\" onclick=\"quickchart('df-4513d50c-09e3-4e35-82f7-1c660c709b5a')\"\n",
              "                title=\"Suggest charts\"\n",
              "                style=\"display:none;\">\n",
              "\n",
              "<svg xmlns=\"http://www.w3.org/2000/svg\" height=\"24px\"viewBox=\"0 0 24 24\"\n",
              "     width=\"24px\">\n",
              "    <g>\n",
              "        <path d=\"M19 3H5c-1.1 0-2 .9-2 2v14c0 1.1.9 2 2 2h14c1.1 0 2-.9 2-2V5c0-1.1-.9-2-2-2zM9 17H7v-7h2v7zm4 0h-2V7h2v10zm4 0h-2v-4h2v4z\"/>\n",
              "    </g>\n",
              "</svg>\n",
              "      </button>\n",
              "\n",
              "<style>\n",
              "  .colab-df-quickchart {\n",
              "      --bg-color: #E8F0FE;\n",
              "      --fill-color: #1967D2;\n",
              "      --hover-bg-color: #E2EBFA;\n",
              "      --hover-fill-color: #174EA6;\n",
              "      --disabled-fill-color: #AAA;\n",
              "      --disabled-bg-color: #DDD;\n",
              "  }\n",
              "\n",
              "  [theme=dark] .colab-df-quickchart {\n",
              "      --bg-color: #3B4455;\n",
              "      --fill-color: #D2E3FC;\n",
              "      --hover-bg-color: #434B5C;\n",
              "      --hover-fill-color: #FFFFFF;\n",
              "      --disabled-bg-color: #3B4455;\n",
              "      --disabled-fill-color: #666;\n",
              "  }\n",
              "\n",
              "  .colab-df-quickchart {\n",
              "    background-color: var(--bg-color);\n",
              "    border: none;\n",
              "    border-radius: 50%;\n",
              "    cursor: pointer;\n",
              "    display: none;\n",
              "    fill: var(--fill-color);\n",
              "    height: 32px;\n",
              "    padding: 0;\n",
              "    width: 32px;\n",
              "  }\n",
              "\n",
              "  .colab-df-quickchart:hover {\n",
              "    background-color: var(--hover-bg-color);\n",
              "    box-shadow: 0 1px 2px rgba(60, 64, 67, 0.3), 0 1px 3px 1px rgba(60, 64, 67, 0.15);\n",
              "    fill: var(--button-hover-fill-color);\n",
              "  }\n",
              "\n",
              "  .colab-df-quickchart-complete:disabled,\n",
              "  .colab-df-quickchart-complete:disabled:hover {\n",
              "    background-color: var(--disabled-bg-color);\n",
              "    fill: var(--disabled-fill-color);\n",
              "    box-shadow: none;\n",
              "  }\n",
              "\n",
              "  .colab-df-spinner {\n",
              "    border: 2px solid var(--fill-color);\n",
              "    border-color: transparent;\n",
              "    border-bottom-color: var(--fill-color);\n",
              "    animation:\n",
              "      spin 1s steps(1) infinite;\n",
              "  }\n",
              "\n",
              "  @keyframes spin {\n",
              "    0% {\n",
              "      border-color: transparent;\n",
              "      border-bottom-color: var(--fill-color);\n",
              "      border-left-color: var(--fill-color);\n",
              "    }\n",
              "    20% {\n",
              "      border-color: transparent;\n",
              "      border-left-color: var(--fill-color);\n",
              "      border-top-color: var(--fill-color);\n",
              "    }\n",
              "    30% {\n",
              "      border-color: transparent;\n",
              "      border-left-color: var(--fill-color);\n",
              "      border-top-color: var(--fill-color);\n",
              "      border-right-color: var(--fill-color);\n",
              "    }\n",
              "    40% {\n",
              "      border-color: transparent;\n",
              "      border-right-color: var(--fill-color);\n",
              "      border-top-color: var(--fill-color);\n",
              "    }\n",
              "    60% {\n",
              "      border-color: transparent;\n",
              "      border-right-color: var(--fill-color);\n",
              "    }\n",
              "    80% {\n",
              "      border-color: transparent;\n",
              "      border-right-color: var(--fill-color);\n",
              "      border-bottom-color: var(--fill-color);\n",
              "    }\n",
              "    90% {\n",
              "      border-color: transparent;\n",
              "      border-bottom-color: var(--fill-color);\n",
              "    }\n",
              "  }\n",
              "</style>\n",
              "\n",
              "      <script>\n",
              "        async function quickchart(key) {\n",
              "          const quickchartButtonEl =\n",
              "            document.querySelector('#' + key + ' button');\n",
              "          quickchartButtonEl.disabled = true;  // To prevent multiple clicks.\n",
              "          quickchartButtonEl.classList.add('colab-df-spinner');\n",
              "          try {\n",
              "            const charts = await google.colab.kernel.invokeFunction(\n",
              "                'suggestCharts', [key], {});\n",
              "          } catch (error) {\n",
              "            console.error('Error during call to suggestCharts:', error);\n",
              "          }\n",
              "          quickchartButtonEl.classList.remove('colab-df-spinner');\n",
              "          quickchartButtonEl.classList.add('colab-df-quickchart-complete');\n",
              "        }\n",
              "        (() => {\n",
              "          let quickchartButtonEl =\n",
              "            document.querySelector('#df-4513d50c-09e3-4e35-82f7-1c660c709b5a button');\n",
              "          quickchartButtonEl.style.display =\n",
              "            google.colab.kernel.accessAllowed ? 'block' : 'none';\n",
              "        })();\n",
              "      </script>\n",
              "    </div>\n",
              "\n",
              "    </div>\n",
              "  </div>\n"
            ],
            "application/vnd.google.colaboratory.intrinsic+json": {
              "type": "dataframe",
              "variable_name": "df",
              "summary": "{\n  \"name\": \"df\",\n  \"rows\": 150,\n  \"fields\": [\n    {\n      \"column\": \"sepal_length\",\n      \"properties\": {\n        \"dtype\": \"number\",\n        \"std\": 0.8280661279778629,\n        \"min\": 4.3,\n        \"max\": 7.9,\n        \"num_unique_values\": 35,\n        \"samples\": [\n          6.2,\n          4.5,\n          5.6\n        ],\n        \"semantic_type\": \"\",\n        \"description\": \"\"\n      }\n    },\n    {\n      \"column\": \"sepal_width\",\n      \"properties\": {\n        \"dtype\": \"number\",\n        \"std\": 0.4335943113621737,\n        \"min\": 2.0,\n        \"max\": 4.4,\n        \"num_unique_values\": 23,\n        \"samples\": [\n          2.3,\n          4.0,\n          3.5\n        ],\n        \"semantic_type\": \"\",\n        \"description\": \"\"\n      }\n    },\n    {\n      \"column\": \"petal_length\",\n      \"properties\": {\n        \"dtype\": \"number\",\n        \"std\": 1.7644204199522617,\n        \"min\": 1.0,\n        \"max\": 6.9,\n        \"num_unique_values\": 43,\n        \"samples\": [\n          6.7,\n          3.8,\n          3.7\n        ],\n        \"semantic_type\": \"\",\n        \"description\": \"\"\n      }\n    },\n    {\n      \"column\": \"petal_width\",\n      \"properties\": {\n        \"dtype\": \"number\",\n        \"std\": 0.7631607417008414,\n        \"min\": 0.1,\n        \"max\": 2.5,\n        \"num_unique_values\": 22,\n        \"samples\": [\n          0.2,\n          1.2,\n          1.3\n        ],\n        \"semantic_type\": \"\",\n        \"description\": \"\"\n      }\n    },\n    {\n      \"column\": \"species\",\n      \"properties\": {\n        \"dtype\": \"category\",\n        \"num_unique_values\": 3,\n        \"samples\": [\n          \"setosa\",\n          \"versicolor\",\n          \"virginica\"\n        ],\n        \"semantic_type\": \"\",\n        \"description\": \"\"\n      }\n    }\n  ]\n}"
            }
          },
          "metadata": {},
          "execution_count": 96
        }
      ]
    },
    {
      "cell_type": "code",
      "source": [
        "df['species'].unique()"
      ],
      "metadata": {
        "colab": {
          "base_uri": "https://localhost:8080/"
        },
        "id": "qbv2Js0OWcAW",
        "outputId": "b758774e-53ea-491f-ed54-099fa7e87230"
      },
      "execution_count": 97,
      "outputs": [
        {
          "output_type": "execute_result",
          "data": {
            "text/plain": [
              "array(['setosa', 'versicolor', 'virginica'], dtype=object)"
            ]
          },
          "metadata": {},
          "execution_count": 97
        }
      ]
    },
    {
      "cell_type": "code",
      "source": [
        "# df['species'].replace('setosa',0.0)\n",
        "# df['species'].replace('versicolor', 1.0)\n",
        "# df['species'].replace('virginica', 2.0)\n",
        "df['species'] = df['species'].replace({'setosa':0.0, 'versicolor':1.0, 'virginica':2.0})"
      ],
      "metadata": {
        "colab": {
          "base_uri": "https://localhost:8080/"
        },
        "id": "Lgz3Tu_eWh8X",
        "outputId": "c5338ab8-e098-4712-de0a-dc42bce590b8"
      },
      "execution_count": 98,
      "outputs": [
        {
          "output_type": "stream",
          "name": "stderr",
          "text": [
            "<ipython-input-98-e99a02023652>:4: FutureWarning: Downcasting behavior in `replace` is deprecated and will be removed in a future version. To retain the old behavior, explicitly call `result.infer_objects(copy=False)`. To opt-in to the future behavior, set `pd.set_option('future.no_silent_downcasting', True)`\n",
            "  df['species'] = df['species'].replace({'setosa':0.0, 'versicolor':1.0, 'virginica':2.0})\n"
          ]
        }
      ]
    },
    {
      "cell_type": "code",
      "source": [
        "# separating the training features and target features\n",
        "X = df.drop('species', axis=1)\n",
        "Y = df['species']\n",
        "\n",
        "# converting to numpy arrays\n",
        "X = X.values\n",
        "Y = Y.values"
      ],
      "metadata": {
        "id": "KgInb3e-W0yd"
      },
      "execution_count": 99,
      "outputs": []
    },
    {
      "cell_type": "code",
      "source": [
        "from sklearn.model_selection import train_test_split"
      ],
      "metadata": {
        "id": "xMsDBXYHcRar"
      },
      "execution_count": 100,
      "outputs": []
    },
    {
      "cell_type": "code",
      "source": [
        "X_train, X_test, Y_train, Y_test = train_test_split(X, Y, random_state=31, test_size=0.2)"
      ],
      "metadata": {
        "id": "Lx_Qzna4clZ8"
      },
      "execution_count": 101,
      "outputs": []
    },
    {
      "cell_type": "code",
      "source": [
        "X_train = torch.FloatTensor(X_train)\n",
        "X_test = torch.FloatTensor(X_test)\n",
        "\n",
        "Y_train = torch.LongTensor(Y_train)\n",
        "Y_test = torch.LongTensor(Y_test)"
      ],
      "metadata": {
        "id": "nUMI1YAVdPBa"
      },
      "execution_count": 102,
      "outputs": []
    },
    {
      "cell_type": "code",
      "source": [
        "criterion = nn.CrossEntropyLoss()\n",
        "optimizer = torch.optim.Adam(model.parameters(), lr=0.001)"
      ],
      "metadata": {
        "id": "nZEOuUSRiJ1Q"
      },
      "execution_count": 103,
      "outputs": []
    },
    {
      "cell_type": "code",
      "source": [
        "# Training the model\n",
        "epochs = 700\n",
        "losses = []\n",
        "\n",
        "for i in range(epochs):\n",
        "  Y_pred = model.forward(X_train)\n",
        "  loss = criterion(Y_pred, Y_train)\n",
        "  losses.append(loss.detach().numpy())\n",
        "  if i%10 == 0 :\n",
        "    print(f\"Epoch: {i} and Loss: {loss}\")\n",
        "  optimizer.zero_grad\n",
        "  loss.backward()\n",
        "  optimizer.step()"
      ],
      "metadata": {
        "colab": {
          "base_uri": "https://localhost:8080/"
        },
        "id": "LvzCgyFVpcGZ",
        "outputId": "3b3fadc5-2562-464f-cfc3-9375967c1aaf"
      },
      "execution_count": 104,
      "outputs": [
        {
          "output_type": "stream",
          "name": "stdout",
          "text": [
            "Epoch: 0 and Loss: 1.2030147314071655\n",
            "Epoch: 10 and Loss: 1.1875133514404297\n",
            "Epoch: 20 and Loss: 1.1722782850265503\n",
            "Epoch: 30 and Loss: 1.15755295753479\n",
            "Epoch: 40 and Loss: 1.14357328414917\n",
            "Epoch: 50 and Loss: 1.1296749114990234\n",
            "Epoch: 60 and Loss: 1.1160972118377686\n",
            "Epoch: 70 and Loss: 1.1069772243499756\n",
            "Epoch: 80 and Loss: 1.0997405052185059\n",
            "Epoch: 90 and Loss: 1.0922671556472778\n",
            "Epoch: 100 and Loss: 1.0854560136795044\n",
            "Epoch: 110 and Loss: 1.0791068077087402\n",
            "Epoch: 120 and Loss: 1.0711848735809326\n",
            "Epoch: 130 and Loss: 1.060759425163269\n",
            "Epoch: 140 and Loss: 1.046964406967163\n",
            "Epoch: 150 and Loss: 1.024781346321106\n",
            "Epoch: 160 and Loss: 0.9924435019493103\n",
            "Epoch: 170 and Loss: 0.9536949396133423\n",
            "Epoch: 180 and Loss: 0.9102605581283569\n",
            "Epoch: 190 and Loss: 0.8627563118934631\n",
            "Epoch: 200 and Loss: 0.816758930683136\n",
            "Epoch: 210 and Loss: 0.7662714123725891\n",
            "Epoch: 220 and Loss: 0.7143053412437439\n",
            "Epoch: 230 and Loss: 0.6670464277267456\n",
            "Epoch: 240 and Loss: 0.624785304069519\n",
            "Epoch: 250 and Loss: 0.5872104167938232\n",
            "Epoch: 260 and Loss: 0.5550066828727722\n",
            "Epoch: 270 and Loss: 0.5287112593650818\n",
            "Epoch: 280 and Loss: 0.5079807043075562\n",
            "Epoch: 290 and Loss: 0.4914166033267975\n",
            "Epoch: 300 and Loss: 0.47689640522003174\n",
            "Epoch: 310 and Loss: 0.4637649953365326\n",
            "Epoch: 320 and Loss: 0.4523245096206665\n",
            "Epoch: 330 and Loss: 0.4425114095211029\n",
            "Epoch: 340 and Loss: 0.43377962708473206\n",
            "Epoch: 350 and Loss: 0.4258210062980652\n",
            "Epoch: 360 and Loss: 0.41850072145462036\n",
            "Epoch: 370 and Loss: 0.4118059277534485\n",
            "Epoch: 380 and Loss: 0.40589529275894165\n",
            "Epoch: 390 and Loss: 0.40085452795028687\n",
            "Epoch: 400 and Loss: 0.3966885507106781\n",
            "Epoch: 410 and Loss: 0.3932972550392151\n",
            "Epoch: 420 and Loss: 0.3903866410255432\n",
            "Epoch: 430 and Loss: 0.3878020644187927\n",
            "Epoch: 440 and Loss: 0.38524866104125977\n",
            "Epoch: 450 and Loss: 0.38246986269950867\n",
            "Epoch: 460 and Loss: 0.37938326597213745\n",
            "Epoch: 470 and Loss: 0.3759959042072296\n",
            "Epoch: 480 and Loss: 0.3724636137485504\n",
            "Epoch: 490 and Loss: 0.369035542011261\n",
            "Epoch: 500 and Loss: 0.3659563958644867\n",
            "Epoch: 510 and Loss: 0.36329957842826843\n",
            "Epoch: 520 and Loss: 0.36085695028305054\n",
            "Epoch: 530 and Loss: 0.35815194249153137\n",
            "Epoch: 540 and Loss: 0.354617714881897\n",
            "Epoch: 550 and Loss: 0.3498830795288086\n",
            "Epoch: 560 and Loss: 0.3440192937850952\n",
            "Epoch: 570 and Loss: 0.3375960886478424\n",
            "Epoch: 580 and Loss: 0.33145850896835327\n",
            "Epoch: 590 and Loss: 0.3262629508972168\n",
            "Epoch: 600 and Loss: 0.32224515080451965\n",
            "Epoch: 610 and Loss: 0.31911981105804443\n",
            "Epoch: 620 and Loss: 0.3166033923625946\n",
            "Epoch: 630 and Loss: 0.31417790055274963\n",
            "Epoch: 640 and Loss: 0.3110550343990326\n",
            "Epoch: 650 and Loss: 0.3051970303058624\n",
            "Epoch: 660 and Loss: 0.29527220129966736\n",
            "Epoch: 670 and Loss: 0.28509941697120667\n",
            "Epoch: 680 and Loss: 0.2821715176105499\n",
            "Epoch: 690 and Loss: 0.29008543491363525\n"
          ]
        }
      ]
    },
    {
      "cell_type": "code",
      "source": [
        "plt.plot(range(epochs), losses)\n",
        "plt.ylabel('losses')\n",
        "plt.xlabel('epochs')"
      ],
      "metadata": {
        "colab": {
          "base_uri": "https://localhost:8080/",
          "height": 467
        },
        "id": "-QpitR8T-_dK",
        "outputId": "7f64e9b3-b476-4fe9-9ed8-96c7379536f0"
      },
      "execution_count": 105,
      "outputs": [
        {
          "output_type": "execute_result",
          "data": {
            "text/plain": [
              "Text(0.5, 0, 'epochs')"
            ]
          },
          "metadata": {},
          "execution_count": 105
        },
        {
          "output_type": "display_data",
          "data": {
            "text/plain": [
              "<Figure size 640x480 with 1 Axes>"
            ],
            "image/png": "[encoded data removed]"
          },
          "metadata": {}
        }
      ]
    },
    {
      "cell_type": "code",
      "source": [
        "# evaluating the model\n",
        "with torch.no_grad():\n",
        "  y_eval = model.forward(X_test)\n",
        "  loss = criterion(y_eval, Y_test)\n",
        "\n",
        "loss"
      ],
      "metadata": {
        "colab": {
          "base_uri": "https://localhost:8080/"
        },
        "id": "9VqlD3rpHKig",
        "outputId": "ac5e37a9-7bcc-4524-d7b1-e564ccff0b64"
      },
      "execution_count": 108,
      "outputs": [
        {
          "output_type": "execute_result",
          "data": {
            "text/plain": [
              "tensor(0.4475)"
            ]
          },
          "metadata": {},
          "execution_count": 108
        }
      ]
    },
    {
      "cell_type": "code",
      "source": [
        "correct = 0\n",
        "with torch.no_grad():\n",
        "  for i, data in enumerate(X_test):\n",
        "    y_eval = model.forward(data)\n",
        "    print(f\"{i}.)\\t{str(y_eval)}\\t{Y_test[i]}\")\n",
        "    if y_eval.argmax().item() == Y_test[i]:\n",
        "      correct += 1\n",
        "\n",
        "print(f\"We got {correct} correct !\")"
      ],
      "metadata": {
        "colab": {
          "base_uri": "https://localhost:8080/"
        },
        "id": "lml1NOSMIJik",
        "outputId": "1ab997fd-e222-4c8b-caaa-56206e28c1c5"
      },
      "execution_count": 110,
      "outputs": [
        {
          "output_type": "stream",
          "name": "stdout",
          "text": [
            "0.)\ttensor([-5.6116,  2.9723,  3.5420])\t1\n",
            "1.)\ttensor([-11.8965,   4.8625,   7.7075])\t2\n",
            "2.)\ttensor([ 18.8727, -17.8334, -16.2575])\t0\n",
            "3.)\ttensor([-4.2527,  2.5637,  2.6414])\t1\n",
            "4.)\ttensor([-10.4898,   4.4395,   6.7752])\t2\n",
            "5.)\ttensor([ 17.2080, -16.1241, -14.8415])\t0\n",
            "6.)\ttensor([-8.6780,  3.8946,  5.5744])\t2\n",
            "7.)\ttensor([-3.5308,  2.3466,  2.1630])\t1\n",
            "8.)\ttensor([ 24.0275, -23.1651, -20.6788])\t0\n",
            "9.)\ttensor([ 20.0187, -19.0230, -17.2444])\t0\n",
            "10.)\ttensor([-9.2836,  4.0767,  5.9758])\t2\n",
            "11.)\ttensor([-4.6867,  2.6942,  2.9290])\t1\n",
            "12.)\ttensor([-7.5608,  3.5586,  4.8339])\t2\n",
            "13.)\ttensor([ 19.4811, -18.4557, -16.7727])\t0\n",
            "14.)\ttensor([-11.4555,   4.7299,   7.4152])\t2\n",
            "15.)\ttensor([-8.4724,  3.8327,  5.4381])\t1\n",
            "16.)\ttensor([-8.0540,  3.7069,  5.1608])\t1\n",
            "17.)\ttensor([-5.8146,  3.0334,  3.6766])\t1\n",
            "18.)\ttensor([-11.5250,   4.7508,   7.4614])\t2\n",
            "19.)\ttensor([ 17.0865, -15.9900, -14.7293])\t0\n",
            "20.)\ttensor([-10.2630,   4.3712,   6.6249])\t2\n",
            "21.)\ttensor([-12.7070,   5.1063,   8.2447])\t2\n",
            "22.)\ttensor([ 16.8906, -15.7986, -14.5719])\t0\n",
            "23.)\ttensor([-11.4829,   4.7381,   7.4334])\t2\n",
            "24.)\ttensor([-3.9346,  2.4680,  2.4306])\t1\n",
            "25.)\ttensor([ 19.4372, -18.4175, -16.7419])\t0\n",
            "26.)\ttensor([-5.5564,  2.9558,  3.5055])\t1\n",
            "27.)\ttensor([-4.6005,  2.6683,  2.8719])\t1\n",
            "28.)\ttensor([-6.2627,  3.1682,  3.9736])\t1\n",
            "29.)\ttensor([-5.6642,  2.9882,  3.5769])\t1\n",
            "We got 20 correct !\n"
          ]
        }
      ]
    }
  ]
}